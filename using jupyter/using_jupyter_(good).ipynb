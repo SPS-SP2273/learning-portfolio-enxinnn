{
 "cells": [
  {
   "cell_type": "markdown",
   "id": "123456",
   "metadata": {},
   "source": [
    "<div style=\"text-align:left;font-size:2em\"><span style=\"font-weight:bolder;font-size:1.25em\">SP2273 | Learning Portfolio</span><br><br><span style=\"font-weight:bold;color:darkred\">Using Jupyter (Good)</span></div>"
   ]
  },
  {
   "cell_type": "markdown",
   "id": "c11f9d16",
   "metadata": {},
   "source": [
    "## 1 Some tips and tricks"
   ]
  },
  {
   "cell_type": "markdown",
   "id": "f7b33dbe",
   "metadata": {},
   "source": [
    "### 1.1 Keyboard Shortcuts"
   ]
  },
  {
   "cell_type": "markdown",
   "id": "b7f14746",
   "metadata": {},
   "source": []
  },
  {
   "cell_type": "markdown",
   "id": "403220f7",
   "metadata": {},
   "source": [
    "### 1.2 Shell commands"
   ]
  },
  {
   "cell_type": "code",
   "execution_count": null,
   "id": "1231096c",
   "metadata": {},
   "outputs": [],
   "source": [
    "!conda install numpy"
   ]
  },
  {
   "cell_type": "code",
   "execution_count": null,
   "id": "d00d9502",
   "metadata": {
    "scrolled": true
   },
   "outputs": [],
   "source": [
    "!cd"
   ]
  },
  {
   "cell_type": "code",
   "execution_count": null,
   "id": "44159b29",
   "metadata": {
    "scrolled": true
   },
   "outputs": [],
   "source": [
    "!conda install numpy"
   ]
  },
  {
   "cell_type": "markdown",
   "id": "65312578",
   "metadata": {},
   "source": [
    "## 2 Jupyter Extensions"
   ]
  },
  {
   "cell_type": "markdown",
   "id": "24efe2ca",
   "metadata": {},
   "source": [
    "### 2.1 Installing the extensions"
   ]
  },
  {
   "cell_type": "code",
   "execution_count": null,
   "id": "d8053144",
   "metadata": {},
   "outputs": [],
   "source": []
  },
  {
   "cell_type": "markdown",
   "id": "6e5e85ed",
   "metadata": {},
   "source": [
    "### 2.2 Enabling the extensions"
   ]
  },
  {
   "cell_type": "code",
   "execution_count": null,
   "id": "e0acae96",
   "metadata": {},
   "outputs": [],
   "source": [
    "x = 10\n",
    "y = 4"
   ]
  },
  {
   "cell_type": "code",
   "execution_count": null,
   "id": "a3bb60f1",
   "metadata": {},
   "outputs": [],
   "source": [
    "z=x+y"
   ]
  },
  {
   "cell_type": "code",
   "execution_count": null,
   "id": "5e6c2b0f",
   "metadata": {},
   "outputs": [],
   "source": [
    "a = True"
   ]
  },
  {
   "cell_type": "code",
   "execution_count": null,
   "id": "5bd0918e",
   "metadata": {
    "code_folding": [
     0
    ]
   },
   "outputs": [],
   "source": [
    "# Do some computations\n",
    "a=1\n",
    "b=2*a"
   ]
  },
  {
   "cell_type": "markdown",
   "id": "7de0cbbf",
   "metadata": {},
   "source": [
    "\\begin{equation}\n",
    "E = F \\cdot s \n",
    "\\end{equation}"
   ]
  },
  {
   "cell_type": "markdown",
   "id": "9208f20f",
   "metadata": {},
   "source": [
    "\\begin{equation}\n",
    "E = F \\cdot s \n",
    "\\end{equation}"
   ]
  },
  {
   "cell_type": "markdown",
   "id": "ff88ed99",
   "metadata": {},
   "source": [
    "## 3 Shell Magic"
   ]
  },
  {
   "cell_type": "code",
   "execution_count": null,
   "id": "ac56cd61",
   "metadata": {
    "scrolled": true
   },
   "outputs": [],
   "source": [
    "%timeit x=10"
   ]
  },
  {
   "cell_type": "code",
   "execution_count": null,
   "id": "36d4f8c9",
   "metadata": {
    "scrolled": true
   },
   "outputs": [],
   "source": [
    "%%timeit \n",
    "x=10\n",
    "y=10\n",
    "z=10"
   ]
  },
  {
   "cell_type": "code",
   "execution_count": null,
   "id": "0bfc30e4",
   "metadata": {
    "scrolled": false
   },
   "outputs": [],
   "source": [
    "%lsmagic x=10"
   ]
  },
  {
   "cell_type": "code",
   "execution_count": null,
   "id": "e78c30f5",
   "metadata": {},
   "outputs": [],
   "source": [
    "lsmagic x=10"
   ]
  },
  {
   "cell_type": "markdown",
   "id": "6ef3c0ad",
   "metadata": {},
   "source": [
    "## 4 The Kernel"
   ]
  },
  {
   "cell_type": "markdown",
   "id": "344b04a3",
   "metadata": {},
   "source": [
    "## Exercise 1 :  A new shortcut"
   ]
  },
  {
   "cell_type": "markdown",
   "id": "95ed664a",
   "metadata": {},
   "source": [
    "Done, added 2 new keyboard shortcuts "
   ]
  }
 ],
 "metadata": {
  "kernelspec": {
   "display_name": "Python 3 (ipykernel)",
   "language": "python",
   "name": "python3"
  },
  "language_info": {
   "codemirror_mode": {
    "name": "ipython",
    "version": 3
   },
   "file_extension": ".py",
   "mimetype": "text/x-python",
   "name": "python",
   "nbconvert_exporter": "python",
   "pygments_lexer": "ipython3",
   "version": "3.10.8"
  },
  "toc": {
   "base_numbering": 1,
   "nav_menu": {},
   "number_sections": true,
   "sideBar": true,
   "skip_h1_title": false,
   "title_cell": "Table of Contents",
   "title_sidebar": "Contents",
   "toc_cell": false,
   "toc_position": {
    "height": "calc(100% - 180px)",
    "left": "10px",
    "top": "150px",
    "width": "165px"
   },
   "toc_section_display": true,
   "toc_window_display": true
  },
  "varInspector": {
   "cols": {
    "lenName": 16,
    "lenType": 16,
    "lenVar": 40
   },
   "kernels_config": {
    "python": {
     "delete_cmd_postfix": "",
     "delete_cmd_prefix": "del ",
     "library": "var_list.py",
     "varRefreshCmd": "print(var_dic_list())"
    },
    "r": {
     "delete_cmd_postfix": ") ",
     "delete_cmd_prefix": "rm(",
     "library": "var_list.r",
     "varRefreshCmd": "cat(var_dic_list()) "
    }
   },
   "types_to_exclude": [
    "module",
    "function",
    "builtin_function_or_method",
    "instance",
    "_Feature"
   ],
   "window_display": false
  },
  "vscode": {
   "interpreter": {
    "hash": "31f2aee4e71d21fbe5cf8b01ff0e069b9275f58929596ceb00d14d90e3e16cd6"
   }
  }
 },
 "nbformat": 4,
 "nbformat_minor": 5
}
