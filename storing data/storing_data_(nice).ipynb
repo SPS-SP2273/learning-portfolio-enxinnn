{
 "cells": [
  {
   "cell_type": "markdown",
   "id": "123456",
   "metadata": {},
   "source": [
    "<div style=\"text-align:left;font-size:2em\"><span style=\"font-weight:bolder;font-size:1.25em\">SP2273 | Learning Portfolio</span><br><br><span style=\"font-weight:bold;color:darkred\">Storing Data (Nice)</span></div>"
   ]
  },
  {
   "cell_type": "markdown",
   "id": "9ecd74f7",
   "metadata": {},
   "source": [
    "## 1 Classes"
   ]
  },
  {
   "cell_type": "markdown",
   "id": "2f66b877",
   "metadata": {},
   "source": [
    "### 1.1 A grave injustice"
   ]
  },
  {
   "cell_type": "code",
   "execution_count": null,
   "id": "f46dbd5f",
   "metadata": {},
   "outputs": [],
   "source": [
    "\n",
    "# Your code here\n"
   ]
  },
  {
   "cell_type": "markdown",
   "id": "6df2048d",
   "metadata": {},
   "source": [
    "### 1.2 A particle class"
   ]
  },
  {
   "cell_type": "code",
   "execution_count": 12,
   "id": "fe3384c6",
   "metadata": {},
   "outputs": [],
   "source": [
    "# Particle1D is a class which contains variables, particle_0 is an object in the class Particle1D\n",
    "\n",
    "class Particle1D:\n",
    "    mass = None\n",
    "    position = None\n",
    "    radius = None"
   ]
  },
  {
   "cell_type": "code",
   "execution_count": 6,
   "id": "2d99d0dd",
   "metadata": {},
   "outputs": [],
   "source": [
    "particle_0 = Particle1D()\n",
    "particle_0.mass = 10\n",
    "particle_0.position = .5\n",
    "particle_0.radius = .01"
   ]
  },
  {
   "cell_type": "code",
   "execution_count": 4,
   "id": "a68a6220",
   "metadata": {},
   "outputs": [
    {
     "name": "stdout",
     "output_type": "stream",
     "text": [
      "Particle 0 has mass 10 and is at position 0.5\n"
     ]
    }
   ],
   "source": [
    "print(f'Particle 0 has mass {particle_0.mass} and is at position {particle_0.position}')"
   ]
  },
  {
   "cell_type": "markdown",
   "id": "115c01cd",
   "metadata": {},
   "source": [
    "### 1.3 Class vs Object variables"
   ]
  },
  {
   "cell_type": "code",
   "execution_count": 16,
   "id": "7cab14cc",
   "metadata": {},
   "outputs": [],
   "source": [
    "# setting the class variable\n",
    "\n",
    "Particle1D.mass = 99\n",
    "Particle1D.radius = 0.01"
   ]
  },
  {
   "cell_type": "code",
   "execution_count": 21,
   "id": "a2c6cbef",
   "metadata": {},
   "outputs": [],
   "source": [
    "particle_0 = Particle1D()\n",
    "particle_1 = Particle1D()\n",
    "particle_0.position = .5  # setting the variable of an object"
   ]
  },
  {
   "cell_type": "code",
   "execution_count": 22,
   "id": "91d6f1a8",
   "metadata": {
    "scrolled": true
   },
   "outputs": [
    {
     "name": "stdout",
     "output_type": "stream",
     "text": [
      "99\n",
      "99\n"
     ]
    }
   ],
   "source": [
    "print(particle_0.mass) # objects inside the class will have the same mass\n",
    "print(particle_1.mass)"
   ]
  },
  {
   "cell_type": "code",
   "execution_count": 19,
   "id": "cfac8b7d",
   "metadata": {},
   "outputs": [
    {
     "name": "stdout",
     "output_type": "stream",
     "text": [
      "0.01\n"
     ]
    }
   ],
   "source": [
    "print(particle_0.radius)"
   ]
  },
  {
   "cell_type": "markdown",
   "id": "ea8b1efe",
   "metadata": {},
   "source": [
    "### 1.4 Making it more scalable"
   ]
  },
  {
   "cell_type": "code",
   "execution_count": 53,
   "id": "748a8459",
   "metadata": {},
   "outputs": [],
   "source": [
    "all_particles = [Particle1D()]\n",
    "all_particles += [Particle1D()]\n",
    "all_particles += [Particle1D()]"
   ]
  },
  {
   "cell_type": "code",
   "execution_count": 54,
   "id": "ea6886e6",
   "metadata": {
    "scrolled": true
   },
   "outputs": [
    {
     "data": {
      "text/plain": [
       "[<__main__.Particle1D at 0x1e8bddaf700>,\n",
       " <__main__.Particle1D at 0x1e8bdecd990>,\n",
       " <__main__.Particle1D at 0x1e8bdecd000>]"
      ]
     },
     "execution_count": 54,
     "metadata": {},
     "output_type": "execute_result"
    }
   ],
   "source": [
    "all_particles"
   ]
  },
  {
   "cell_type": "code",
   "execution_count": 55,
   "id": "a9b81eb3",
   "metadata": {},
   "outputs": [],
   "source": [
    "i = 0\n",
    "all_particles[i].position = np.random.rand() # sets a random position for the particle"
   ]
  },
  {
   "cell_type": "code",
   "execution_count": 56,
   "id": "657ef29f",
   "metadata": {},
   "outputs": [
    {
     "name": "stdout",
     "output_type": "stream",
     "text": [
      "Particle 0 has mass 99 and is at position 0.0414291595551729.\n"
     ]
    }
   ],
   "source": [
    "print(f'Particle {i} has mass {all_particles[i].mass} and is at position {all_particles[i].position}.')"
   ]
  },
  {
   "cell_type": "code",
   "execution_count": 57,
   "id": "6fdc5c1c",
   "metadata": {},
   "outputs": [],
   "source": [
    "i += 1\n",
    "all_particles[i].position = np.random.rand()"
   ]
  },
  {
   "cell_type": "code",
   "execution_count": 58,
   "id": "4ea8d0b6",
   "metadata": {},
   "outputs": [
    {
     "name": "stdout",
     "output_type": "stream",
     "text": [
      "Particle 1 has mass 99 and is at position 0.014383532375547348.\n"
     ]
    }
   ],
   "source": [
    "print(f'Particle {i} has mass {all_particles[i].mass} and is at position {all_particles[i].position}.')"
   ]
  },
  {
   "cell_type": "code",
   "execution_count": 59,
   "id": "bf4b48c7",
   "metadata": {},
   "outputs": [],
   "source": [
    "i += 1\n",
    "all_particles[i].position = np.random.rand()"
   ]
  },
  {
   "cell_type": "code",
   "execution_count": 60,
   "id": "dfd3bb6c",
   "metadata": {
    "scrolled": true
   },
   "outputs": [
    {
     "name": "stdout",
     "output_type": "stream",
     "text": [
      "Particle 2 has mass 99 and is at position 0.7887345582750857.\n"
     ]
    }
   ],
   "source": [
    "print(f'Particle {i} has mass {all_particles[i].mass} and is at position {all_particles[i].position}.')"
   ]
  }
 ],
 "metadata": {
  "kernelspec": {
   "display_name": "Python 3 (ipykernel)",
   "language": "python",
   "name": "python3"
  },
  "language_info": {
   "codemirror_mode": {
    "name": "ipython",
    "version": 3
   },
   "file_extension": ".py",
   "mimetype": "text/x-python",
   "name": "python",
   "nbconvert_exporter": "python",
   "pygments_lexer": "ipython3",
   "version": "3.10.8"
  },
  "toc": {
   "base_numbering": 1,
   "nav_menu": {},
   "number_sections": true,
   "sideBar": true,
   "skip_h1_title": false,
   "title_cell": "Table of Contents",
   "title_sidebar": "Contents",
   "toc_cell": false,
   "toc_position": {},
   "toc_section_display": true,
   "toc_window_display": false
  },
  "varInspector": {
   "cols": {
    "lenName": 16,
    "lenType": 16,
    "lenVar": 40
   },
   "kernels_config": {
    "python": {
     "delete_cmd_postfix": "",
     "delete_cmd_prefix": "del ",
     "library": "var_list.py",
     "varRefreshCmd": "print(var_dic_list())"
    },
    "r": {
     "delete_cmd_postfix": ") ",
     "delete_cmd_prefix": "rm(",
     "library": "var_list.r",
     "varRefreshCmd": "cat(var_dic_list()) "
    }
   },
   "types_to_exclude": [
    "module",
    "function",
    "builtin_function_or_method",
    "instance",
    "_Feature"
   ],
   "window_display": false
  },
  "vscode": {
   "interpreter": {
    "hash": "31f2aee4e71d21fbe5cf8b01ff0e069b9275f58929596ceb00d14d90e3e16cd6"
   }
  }
 },
 "nbformat": 4,
 "nbformat_minor": 5
}
