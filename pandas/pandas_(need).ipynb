{
 "cells": [
  {
   "cell_type": "markdown",
   "id": "123456",
   "metadata": {},
   "source": [
    "<div style=\"text-align:left;font-size:2em\"><span style=\"font-weight:bolder;font-size:1.25em\">SP2273 | Learning Portfolio</span><br><br><span style=\"font-weight:bold;color:darkred\">Pandas (Need)</span></div>"
   ]
  },
  {
   "cell_type": "markdown",
   "id": "a9fdebf1",
   "metadata": {},
   "source": [
    "## 1 What is a dataframe"
   ]
  },
  {
   "cell_type": "markdown",
   "id": "74d4642e",
   "metadata": {},
   "source": [
    "### 1.1 Reading data from csv or excel files."
   ]
  },
  {
   "cell_type": "code",
   "execution_count": 1,
   "id": "29a5dd86",
   "metadata": {
    "scrolled": true
   },
   "outputs": [
    {
     "data": {
      "text/html": [
       "<div>\n",
       "<style scoped>\n",
       "    .dataframe tbody tr th:only-of-type {\n",
       "        vertical-align: middle;\n",
       "    }\n",
       "\n",
       "    .dataframe tbody tr th {\n",
       "        vertical-align: top;\n",
       "    }\n",
       "\n",
       "    .dataframe thead th {\n",
       "        text-align: right;\n",
       "    }\n",
       "</style>\n",
       "<table border=\"1\" class=\"dataframe\">\n",
       "  <thead>\n",
       "    <tr style=\"text-align: right;\">\n",
       "      <th></th>\n",
       "      <th>Unnamed: 0</th>\n",
       "      <th>Name</th>\n",
       "      <th>Student No</th>\n",
       "      <th>Major</th>\n",
       "      <th>Gender</th>\n",
       "      <th>Test 2 (20%)</th>\n",
       "      <th>Test 1 (30%)</th>\n",
       "    </tr>\n",
       "  </thead>\n",
       "  <tbody>\n",
       "    <tr>\n",
       "      <th>0</th>\n",
       "      <td>0</td>\n",
       "      <td>Braiden Henson</td>\n",
       "      <td>A3028967J</td>\n",
       "      <td>PHY</td>\n",
       "      <td>M</td>\n",
       "      <td>'18.96'</td>\n",
       "      <td>20.205</td>\n",
       "    </tr>\n",
       "    <tr>\n",
       "      <th>1</th>\n",
       "      <td>1</td>\n",
       "      <td>Gustavo Vang</td>\n",
       "      <td>A1282849W</td>\n",
       "      <td>CHM</td>\n",
       "      <td>F</td>\n",
       "      <td>'17.44'</td>\n",
       "      <td>13.470</td>\n",
       "    </tr>\n",
       "    <tr>\n",
       "      <th>2</th>\n",
       "      <td>2</td>\n",
       "      <td>Ronin Christian</td>\n",
       "      <td>A5408925A</td>\n",
       "      <td>PHY</td>\n",
       "      <td>M</td>\n",
       "      <td>'15.56'</td>\n",
       "      <td>18.366</td>\n",
       "    </tr>\n",
       "    <tr>\n",
       "      <th>3</th>\n",
       "      <td>3</td>\n",
       "      <td>Owen Anderson</td>\n",
       "      <td>A6973859L</td>\n",
       "      <td>LS</td>\n",
       "      <td>F</td>\n",
       "      <td>'16.36'</td>\n",
       "      <td>18.366</td>\n",
       "    </tr>\n",
       "    <tr>\n",
       "      <th>4</th>\n",
       "      <td>4</td>\n",
       "      <td>Kyla Young</td>\n",
       "      <td>A5410124H</td>\n",
       "      <td>PHY</td>\n",
       "      <td>M</td>\n",
       "      <td>NaN</td>\n",
       "      <td>15.306</td>\n",
       "    </tr>\n",
       "    <tr>\n",
       "      <th>5</th>\n",
       "      <td>5</td>\n",
       "      <td>Wyatt Oliver</td>\n",
       "      <td>A9568373Q</td>\n",
       "      <td>PHY</td>\n",
       "      <td>M</td>\n",
       "      <td>'14.088'</td>\n",
       "      <td>12.246</td>\n",
       "    </tr>\n",
       "    <tr>\n",
       "      <th>6</th>\n",
       "      <td>6</td>\n",
       "      <td>Essence Bauer</td>\n",
       "      <td>A6824244G</td>\n",
       "      <td>LS</td>\n",
       "      <td>M</td>\n",
       "      <td>'16.72'</td>\n",
       "      <td>16.530</td>\n",
       "    </tr>\n",
       "    <tr>\n",
       "      <th>7</th>\n",
       "      <td>7</td>\n",
       "      <td>Maryjane Sandoval</td>\n",
       "      <td>A9194090U</td>\n",
       "      <td>LS</td>\n",
       "      <td>F</td>\n",
       "      <td>'16.4'</td>\n",
       "      <td>18.981</td>\n",
       "    </tr>\n",
       "    <tr>\n",
       "      <th>8</th>\n",
       "      <td>8</td>\n",
       "      <td>Carl Trujillo</td>\n",
       "      <td>A4828364M</td>\n",
       "      <td>LS</td>\n",
       "      <td>NB</td>\n",
       "      <td>'13.68'</td>\n",
       "      <td>15.306</td>\n",
       "    </tr>\n",
       "    <tr>\n",
       "      <th>9</th>\n",
       "      <td>9</td>\n",
       "      <td>Halle Fritz</td>\n",
       "      <td>A4607700C</td>\n",
       "      <td>LS</td>\n",
       "      <td>F</td>\n",
       "      <td>'9.04'</td>\n",
       "      <td>17.754</td>\n",
       "    </tr>\n",
       "    <tr>\n",
       "      <th>10</th>\n",
       "      <td>10</td>\n",
       "      <td>Marie Hoffman</td>\n",
       "      <td>A7067766E</td>\n",
       "      <td>LS</td>\n",
       "      <td>F</td>\n",
       "      <td>'16.88'</td>\n",
       "      <td>19.593</td>\n",
       "    </tr>\n",
       "    <tr>\n",
       "      <th>11</th>\n",
       "      <td>11</td>\n",
       "      <td>Lilianna Kaufman</td>\n",
       "      <td>A5569996J</td>\n",
       "      <td>LS</td>\n",
       "      <td>M</td>\n",
       "      <td>'17.0'</td>\n",
       "      <td>26.328</td>\n",
       "    </tr>\n",
       "    <tr>\n",
       "      <th>12</th>\n",
       "      <td>12</td>\n",
       "      <td>Jaxon Chung</td>\n",
       "      <td>A3202548I</td>\n",
       "      <td>PHY</td>\n",
       "      <td>M</td>\n",
       "      <td>'16.68'</td>\n",
       "      <td>14.082</td>\n",
       "    </tr>\n",
       "    <tr>\n",
       "      <th>13</th>\n",
       "      <td>13</td>\n",
       "      <td>Zoey Oconnell</td>\n",
       "      <td>A6131593U</td>\n",
       "      <td>LS</td>\n",
       "      <td>F</td>\n",
       "      <td>'14.128'</td>\n",
       "      <td>22.041</td>\n",
       "    </tr>\n",
       "    <tr>\n",
       "      <th>14</th>\n",
       "      <td>14</td>\n",
       "      <td>Quentin Kemp</td>\n",
       "      <td>A7653832E</td>\n",
       "      <td>CHM</td>\n",
       "      <td>F</td>\n",
       "      <td>'15.72'</td>\n",
       "      <td>NaN</td>\n",
       "    </tr>\n",
       "    <tr>\n",
       "      <th>15</th>\n",
       "      <td>15</td>\n",
       "      <td>Leo Mayo</td>\n",
       "      <td>A9462811I</td>\n",
       "      <td>PHY</td>\n",
       "      <td>F</td>\n",
       "      <td>'14.68'</td>\n",
       "      <td>20.817</td>\n",
       "    </tr>\n",
       "    <tr>\n",
       "      <th>16</th>\n",
       "      <td>16</td>\n",
       "      <td>Camden Williams</td>\n",
       "      <td>A1218599T</td>\n",
       "      <td>CHM</td>\n",
       "      <td>F</td>\n",
       "      <td>'17.648'</td>\n",
       "      <td>22.653</td>\n",
       "    </tr>\n",
       "    <tr>\n",
       "      <th>17</th>\n",
       "      <td>17</td>\n",
       "      <td>Sidney Wiggins</td>\n",
       "      <td>A7210476B</td>\n",
       "      <td>PHY</td>\n",
       "      <td>NB</td>\n",
       "      <td>'14.68'</td>\n",
       "      <td>19.593</td>\n",
       "    </tr>\n",
       "    <tr>\n",
       "      <th>18</th>\n",
       "      <td>18</td>\n",
       "      <td>Solomon Fletcher</td>\n",
       "      <td>A1512479K</td>\n",
       "      <td>CHM</td>\n",
       "      <td>F</td>\n",
       "      <td>'15.0'</td>\n",
       "      <td>18.981</td>\n",
       "    </tr>\n",
       "    <tr>\n",
       "      <th>19</th>\n",
       "      <td>19</td>\n",
       "      <td>Riley Christensen</td>\n",
       "      <td>A7986368Y</td>\n",
       "      <td>CHM</td>\n",
       "      <td>F</td>\n",
       "      <td>'16.016'</td>\n",
       "      <td>15.306</td>\n",
       "    </tr>\n",
       "    <tr>\n",
       "      <th>20</th>\n",
       "      <td>20</td>\n",
       "      <td>Malik Becker</td>\n",
       "      <td>A2727061A</td>\n",
       "      <td>PHY</td>\n",
       "      <td>M</td>\n",
       "      <td>NaN</td>\n",
       "      <td>12.858</td>\n",
       "    </tr>\n",
       "    <tr>\n",
       "      <th>21</th>\n",
       "      <td>21</td>\n",
       "      <td>Skylar Hensley</td>\n",
       "      <td>A2999472W</td>\n",
       "      <td>CHM</td>\n",
       "      <td>M</td>\n",
       "      <td>'17.648'</td>\n",
       "      <td>23.877</td>\n",
       "    </tr>\n",
       "    <tr>\n",
       "      <th>22</th>\n",
       "      <td>22</td>\n",
       "      <td>Braydon Duran</td>\n",
       "      <td>A7116486E</td>\n",
       "      <td>LS</td>\n",
       "      <td>F</td>\n",
       "      <td>'14.36'</td>\n",
       "      <td>15.918</td>\n",
       "    </tr>\n",
       "    <tr>\n",
       "      <th>23</th>\n",
       "      <td>23</td>\n",
       "      <td>Jalen Harmon</td>\n",
       "      <td>A6931452S</td>\n",
       "      <td>LS</td>\n",
       "      <td>F</td>\n",
       "      <td>'16.88'</td>\n",
       "      <td>22.041</td>\n",
       "    </tr>\n",
       "    <tr>\n",
       "      <th>24</th>\n",
       "      <td>24</td>\n",
       "      <td>Ean Haas</td>\n",
       "      <td>A9649096H</td>\n",
       "      <td>LS</td>\n",
       "      <td>F</td>\n",
       "      <td>'14.36'</td>\n",
       "      <td>19.593</td>\n",
       "    </tr>\n",
       "    <tr>\n",
       "      <th>25</th>\n",
       "      <td>25</td>\n",
       "      <td>Carolina Mcmahon</td>\n",
       "      <td>A1643380L</td>\n",
       "      <td>PHY</td>\n",
       "      <td>M</td>\n",
       "      <td>'18.08'</td>\n",
       "      <td>12.858</td>\n",
       "    </tr>\n",
       "    <tr>\n",
       "      <th>26</th>\n",
       "      <td>26</td>\n",
       "      <td>Elian Potter</td>\n",
       "      <td>A6787293E</td>\n",
       "      <td>PHY</td>\n",
       "      <td>M</td>\n",
       "      <td>'14.36'</td>\n",
       "      <td>23.265</td>\n",
       "    </tr>\n",
       "    <tr>\n",
       "      <th>27</th>\n",
       "      <td>27</td>\n",
       "      <td>Litzy White</td>\n",
       "      <td>A5975988J</td>\n",
       "      <td>PHY</td>\n",
       "      <td>NB</td>\n",
       "      <td>'15.92'</td>\n",
       "      <td>20.817</td>\n",
       "    </tr>\n",
       "    <tr>\n",
       "      <th>28</th>\n",
       "      <td>28</td>\n",
       "      <td>Norah Miles</td>\n",
       "      <td>A3699958T</td>\n",
       "      <td>CHM</td>\n",
       "      <td>M</td>\n",
       "      <td>NaN</td>\n",
       "      <td>NaN</td>\n",
       "    </tr>\n",
       "    <tr>\n",
       "      <th>29</th>\n",
       "      <td>29</td>\n",
       "      <td>Mariela Sheppard</td>\n",
       "      <td>A1956366U</td>\n",
       "      <td>LS</td>\n",
       "      <td>NB</td>\n",
       "      <td>'11.0'</td>\n",
       "      <td>18.366</td>\n",
       "    </tr>\n",
       "    <tr>\n",
       "      <th>30</th>\n",
       "      <td>30</td>\n",
       "      <td>Isabela Stokes</td>\n",
       "      <td>A1468689D</td>\n",
       "      <td>CHM</td>\n",
       "      <td>M</td>\n",
       "      <td>'16.8'</td>\n",
       "      <td>18.366</td>\n",
       "    </tr>\n",
       "    <tr>\n",
       "      <th>31</th>\n",
       "      <td>31</td>\n",
       "      <td>Kathleen Rodriguez</td>\n",
       "      <td>A3217320C</td>\n",
       "      <td>PHY</td>\n",
       "      <td>M</td>\n",
       "      <td>'17.76'</td>\n",
       "      <td>22.653</td>\n",
       "    </tr>\n",
       "    <tr>\n",
       "      <th>32</th>\n",
       "      <td>32</td>\n",
       "      <td>Katie Ayers</td>\n",
       "      <td>A6867791C</td>\n",
       "      <td>CBIO</td>\n",
       "      <td>F</td>\n",
       "      <td>'10.28'</td>\n",
       "      <td>16.530</td>\n",
       "    </tr>\n",
       "    <tr>\n",
       "      <th>33</th>\n",
       "      <td>33</td>\n",
       "      <td>Tucker Sloan</td>\n",
       "      <td>A4080490P</td>\n",
       "      <td>LS</td>\n",
       "      <td>M</td>\n",
       "      <td>'15.04'</td>\n",
       "      <td>17.754</td>\n",
       "    </tr>\n",
       "    <tr>\n",
       "      <th>34</th>\n",
       "      <td>34</td>\n",
       "      <td>Carter Crane</td>\n",
       "      <td>A7667457P</td>\n",
       "      <td>LS</td>\n",
       "      <td>M</td>\n",
       "      <td>'13.816'</td>\n",
       "      <td>20.817</td>\n",
       "    </tr>\n",
       "  </tbody>\n",
       "</table>\n",
       "</div>"
      ],
      "text/plain": [
       "    Unnamed: 0                Name Student No Major Gender Test 2 (20%)  \\\n",
       "0            0      Braiden Henson  A3028967J   PHY      M      '18.96'   \n",
       "1            1        Gustavo Vang  A1282849W   CHM      F      '17.44'   \n",
       "2            2     Ronin Christian  A5408925A   PHY      M      '15.56'   \n",
       "3            3       Owen Anderson  A6973859L    LS      F      '16.36'   \n",
       "4            4          Kyla Young  A5410124H   PHY      M          NaN   \n",
       "5            5        Wyatt Oliver  A9568373Q   PHY      M     '14.088'   \n",
       "6            6       Essence Bauer  A6824244G    LS      M      '16.72'   \n",
       "7            7   Maryjane Sandoval  A9194090U    LS      F       '16.4'   \n",
       "8            8       Carl Trujillo  A4828364M    LS     NB      '13.68'   \n",
       "9            9         Halle Fritz  A4607700C    LS      F       '9.04'   \n",
       "10          10       Marie Hoffman  A7067766E    LS      F      '16.88'   \n",
       "11          11    Lilianna Kaufman  A5569996J    LS      M       '17.0'   \n",
       "12          12         Jaxon Chung  A3202548I   PHY      M      '16.68'   \n",
       "13          13       Zoey Oconnell  A6131593U    LS      F     '14.128'   \n",
       "14          14        Quentin Kemp  A7653832E   CHM      F      '15.72'   \n",
       "15          15            Leo Mayo  A9462811I   PHY      F      '14.68'   \n",
       "16          16     Camden Williams  A1218599T   CHM      F     '17.648'   \n",
       "17          17      Sidney Wiggins  A7210476B   PHY     NB      '14.68'   \n",
       "18          18    Solomon Fletcher  A1512479K   CHM      F       '15.0'   \n",
       "19          19   Riley Christensen  A7986368Y   CHM      F     '16.016'   \n",
       "20          20        Malik Becker  A2727061A   PHY      M          NaN   \n",
       "21          21      Skylar Hensley  A2999472W   CHM      M     '17.648'   \n",
       "22          22       Braydon Duran  A7116486E    LS      F      '14.36'   \n",
       "23          23        Jalen Harmon  A6931452S    LS      F      '16.88'   \n",
       "24          24            Ean Haas  A9649096H    LS      F      '14.36'   \n",
       "25          25    Carolina Mcmahon  A1643380L   PHY      M      '18.08'   \n",
       "26          26        Elian Potter  A6787293E   PHY      M      '14.36'   \n",
       "27          27         Litzy White  A5975988J   PHY     NB      '15.92'   \n",
       "28          28         Norah Miles  A3699958T   CHM      M          NaN   \n",
       "29          29    Mariela Sheppard  A1956366U    LS     NB       '11.0'   \n",
       "30          30      Isabela Stokes  A1468689D   CHM      M       '16.8'   \n",
       "31          31  Kathleen Rodriguez  A3217320C   PHY      M      '17.76'   \n",
       "32          32         Katie Ayers  A6867791C  CBIO      F      '10.28'   \n",
       "33          33        Tucker Sloan  A4080490P    LS      M      '15.04'   \n",
       "34          34        Carter Crane  A7667457P    LS      M     '13.816'   \n",
       "\n",
       "    Test 1 (30%)  \n",
       "0         20.205  \n",
       "1         13.470  \n",
       "2         18.366  \n",
       "3         18.366  \n",
       "4         15.306  \n",
       "5         12.246  \n",
       "6         16.530  \n",
       "7         18.981  \n",
       "8         15.306  \n",
       "9         17.754  \n",
       "10        19.593  \n",
       "11        26.328  \n",
       "12        14.082  \n",
       "13        22.041  \n",
       "14           NaN  \n",
       "15        20.817  \n",
       "16        22.653  \n",
       "17        19.593  \n",
       "18        18.981  \n",
       "19        15.306  \n",
       "20        12.858  \n",
       "21        23.877  \n",
       "22        15.918  \n",
       "23        22.041  \n",
       "24        19.593  \n",
       "25        12.858  \n",
       "26        23.265  \n",
       "27        20.817  \n",
       "28           NaN  \n",
       "29        18.366  \n",
       "30        18.366  \n",
       "31        22.653  \n",
       "32        16.530  \n",
       "33        17.754  \n",
       "34        20.817  "
      ]
     },
     "execution_count": 1,
     "metadata": {},
     "output_type": "execute_result"
    }
   ],
   "source": [
    "import pandas as pd\n",
    "import numpy as np\n",
    "\n",
    "df_class = pd.read_excel(\"dummy-class-1-of-2.xlsx\", skiprows = 1)\n",
    "\n",
    "df_class"
   ]
  },
  {
   "cell_type": "markdown",
   "id": "2dddfee9",
   "metadata": {},
   "source": [
    "### 1.2 Characteristics to notice"
   ]
  },
  {
   "cell_type": "code",
   "execution_count": null,
   "id": "e041790a",
   "metadata": {},
   "outputs": [],
   "source": [
    "\n",
    "# Your code here\n"
   ]
  },
  {
   "cell_type": "markdown",
   "id": "5bf6d112",
   "metadata": {},
   "source": [
    "## 2 Quick Peeks"
   ]
  },
  {
   "cell_type": "markdown",
   "id": "6c7b432f",
   "metadata": {},
   "source": [
    "### 2.1 Head and Tail"
   ]
  },
  {
   "cell_type": "code",
   "execution_count": 2,
   "id": "1fe67031",
   "metadata": {
    "scrolled": true
   },
   "outputs": [
    {
     "data": {
      "text/html": [
       "<div>\n",
       "<style scoped>\n",
       "    .dataframe tbody tr th:only-of-type {\n",
       "        vertical-align: middle;\n",
       "    }\n",
       "\n",
       "    .dataframe tbody tr th {\n",
       "        vertical-align: top;\n",
       "    }\n",
       "\n",
       "    .dataframe thead th {\n",
       "        text-align: right;\n",
       "    }\n",
       "</style>\n",
       "<table border=\"1\" class=\"dataframe\">\n",
       "  <thead>\n",
       "    <tr style=\"text-align: right;\">\n",
       "      <th></th>\n",
       "      <th>Unnamed: 0</th>\n",
       "      <th>Name</th>\n",
       "      <th>Student No</th>\n",
       "      <th>Major</th>\n",
       "      <th>Gender</th>\n",
       "      <th>Test 2 (20%)</th>\n",
       "      <th>Test 1 (30%)</th>\n",
       "    </tr>\n",
       "  </thead>\n",
       "  <tbody>\n",
       "    <tr>\n",
       "      <th>0</th>\n",
       "      <td>0</td>\n",
       "      <td>Braiden Henson</td>\n",
       "      <td>A3028967J</td>\n",
       "      <td>PHY</td>\n",
       "      <td>M</td>\n",
       "      <td>'18.96'</td>\n",
       "      <td>20.205</td>\n",
       "    </tr>\n",
       "    <tr>\n",
       "      <th>1</th>\n",
       "      <td>1</td>\n",
       "      <td>Gustavo Vang</td>\n",
       "      <td>A1282849W</td>\n",
       "      <td>CHM</td>\n",
       "      <td>F</td>\n",
       "      <td>'17.44'</td>\n",
       "      <td>13.470</td>\n",
       "    </tr>\n",
       "    <tr>\n",
       "      <th>2</th>\n",
       "      <td>2</td>\n",
       "      <td>Ronin Christian</td>\n",
       "      <td>A5408925A</td>\n",
       "      <td>PHY</td>\n",
       "      <td>M</td>\n",
       "      <td>'15.56'</td>\n",
       "      <td>18.366</td>\n",
       "    </tr>\n",
       "  </tbody>\n",
       "</table>\n",
       "</div>"
      ],
      "text/plain": [
       "   Unnamed: 0             Name Student No Major Gender Test 2 (20%)  \\\n",
       "0           0   Braiden Henson  A3028967J   PHY      M      '18.96'   \n",
       "1           1     Gustavo Vang  A1282849W   CHM      F      '17.44'   \n",
       "2           2  Ronin Christian  A5408925A   PHY      M      '15.56'   \n",
       "\n",
       "   Test 1 (30%)  \n",
       "0        20.205  \n",
       "1        13.470  \n",
       "2        18.366  "
      ]
     },
     "execution_count": 2,
     "metadata": {},
     "output_type": "execute_result"
    }
   ],
   "source": [
    "df_class.head(3)"
   ]
  },
  {
   "cell_type": "code",
   "execution_count": 3,
   "id": "c69380ee",
   "metadata": {
    "scrolled": true
   },
   "outputs": [
    {
     "data": {
      "text/html": [
       "<div>\n",
       "<style scoped>\n",
       "    .dataframe tbody tr th:only-of-type {\n",
       "        vertical-align: middle;\n",
       "    }\n",
       "\n",
       "    .dataframe tbody tr th {\n",
       "        vertical-align: top;\n",
       "    }\n",
       "\n",
       "    .dataframe thead th {\n",
       "        text-align: right;\n",
       "    }\n",
       "</style>\n",
       "<table border=\"1\" class=\"dataframe\">\n",
       "  <thead>\n",
       "    <tr style=\"text-align: right;\">\n",
       "      <th></th>\n",
       "      <th>Unnamed: 0</th>\n",
       "      <th>Name</th>\n",
       "      <th>Student No</th>\n",
       "      <th>Major</th>\n",
       "      <th>Gender</th>\n",
       "      <th>Test 2 (20%)</th>\n",
       "      <th>Test 1 (30%)</th>\n",
       "    </tr>\n",
       "  </thead>\n",
       "  <tbody>\n",
       "    <tr>\n",
       "      <th>32</th>\n",
       "      <td>32</td>\n",
       "      <td>Katie Ayers</td>\n",
       "      <td>A6867791C</td>\n",
       "      <td>CBIO</td>\n",
       "      <td>F</td>\n",
       "      <td>'10.28'</td>\n",
       "      <td>16.530</td>\n",
       "    </tr>\n",
       "    <tr>\n",
       "      <th>33</th>\n",
       "      <td>33</td>\n",
       "      <td>Tucker Sloan</td>\n",
       "      <td>A4080490P</td>\n",
       "      <td>LS</td>\n",
       "      <td>M</td>\n",
       "      <td>'15.04'</td>\n",
       "      <td>17.754</td>\n",
       "    </tr>\n",
       "    <tr>\n",
       "      <th>34</th>\n",
       "      <td>34</td>\n",
       "      <td>Carter Crane</td>\n",
       "      <td>A7667457P</td>\n",
       "      <td>LS</td>\n",
       "      <td>M</td>\n",
       "      <td>'13.816'</td>\n",
       "      <td>20.817</td>\n",
       "    </tr>\n",
       "  </tbody>\n",
       "</table>\n",
       "</div>"
      ],
      "text/plain": [
       "    Unnamed: 0          Name Student No Major Gender Test 2 (20%)  \\\n",
       "32          32   Katie Ayers  A6867791C  CBIO      F      '10.28'   \n",
       "33          33  Tucker Sloan  A4080490P    LS      M      '15.04'   \n",
       "34          34  Carter Crane  A7667457P    LS      M     '13.816'   \n",
       "\n",
       "    Test 1 (30%)  \n",
       "32        16.530  \n",
       "33        17.754  \n",
       "34        20.817  "
      ]
     },
     "execution_count": 3,
     "metadata": {},
     "output_type": "execute_result"
    }
   ],
   "source": [
    "df_class.tail(3)"
   ]
  },
  {
   "cell_type": "code",
   "execution_count": 4,
   "id": "e66657df",
   "metadata": {},
   "outputs": [
    {
     "data": {
      "text/html": [
       "<div>\n",
       "<style scoped>\n",
       "    .dataframe tbody tr th:only-of-type {\n",
       "        vertical-align: middle;\n",
       "    }\n",
       "\n",
       "    .dataframe tbody tr th {\n",
       "        vertical-align: top;\n",
       "    }\n",
       "\n",
       "    .dataframe thead th {\n",
       "        text-align: right;\n",
       "    }\n",
       "</style>\n",
       "<table border=\"1\" class=\"dataframe\">\n",
       "  <thead>\n",
       "    <tr style=\"text-align: right;\">\n",
       "      <th></th>\n",
       "      <th>Unnamed: 0</th>\n",
       "      <th>Name</th>\n",
       "      <th>Student No</th>\n",
       "      <th>Major</th>\n",
       "      <th>Gender</th>\n",
       "      <th>Test 2 (20%)</th>\n",
       "      <th>Test 1 (30%)</th>\n",
       "    </tr>\n",
       "  </thead>\n",
       "  <tbody>\n",
       "    <tr>\n",
       "      <th>0</th>\n",
       "      <td>0</td>\n",
       "      <td>Braiden Henson</td>\n",
       "      <td>A3028967J</td>\n",
       "      <td>PHY</td>\n",
       "      <td>M</td>\n",
       "      <td>'18.96'</td>\n",
       "      <td>20.205</td>\n",
       "    </tr>\n",
       "    <tr>\n",
       "      <th>1</th>\n",
       "      <td>1</td>\n",
       "      <td>Gustavo Vang</td>\n",
       "      <td>A1282849W</td>\n",
       "      <td>CHM</td>\n",
       "      <td>F</td>\n",
       "      <td>'17.44'</td>\n",
       "      <td>13.470</td>\n",
       "    </tr>\n",
       "    <tr>\n",
       "      <th>2</th>\n",
       "      <td>2</td>\n",
       "      <td>Ronin Christian</td>\n",
       "      <td>A5408925A</td>\n",
       "      <td>PHY</td>\n",
       "      <td>M</td>\n",
       "      <td>'15.56'</td>\n",
       "      <td>18.366</td>\n",
       "    </tr>\n",
       "    <tr>\n",
       "      <th>3</th>\n",
       "      <td>3</td>\n",
       "      <td>Owen Anderson</td>\n",
       "      <td>A6973859L</td>\n",
       "      <td>LS</td>\n",
       "      <td>F</td>\n",
       "      <td>'16.36'</td>\n",
       "      <td>18.366</td>\n",
       "    </tr>\n",
       "    <tr>\n",
       "      <th>4</th>\n",
       "      <td>4</td>\n",
       "      <td>Kyla Young</td>\n",
       "      <td>A5410124H</td>\n",
       "      <td>PHY</td>\n",
       "      <td>M</td>\n",
       "      <td>NaN</td>\n",
       "      <td>15.306</td>\n",
       "    </tr>\n",
       "  </tbody>\n",
       "</table>\n",
       "</div>"
      ],
      "text/plain": [
       "   Unnamed: 0             Name Student No Major Gender Test 2 (20%)  \\\n",
       "0           0   Braiden Henson  A3028967J   PHY      M      '18.96'   \n",
       "1           1     Gustavo Vang  A1282849W   CHM      F      '17.44'   \n",
       "2           2  Ronin Christian  A5408925A   PHY      M      '15.56'   \n",
       "3           3    Owen Anderson  A6973859L    LS      F      '16.36'   \n",
       "4           4       Kyla Young  A5410124H   PHY      M          NaN   \n",
       "\n",
       "   Test 1 (30%)  \n",
       "0        20.205  \n",
       "1        13.470  \n",
       "2        18.366  \n",
       "3        18.366  \n",
       "4        15.306  "
      ]
     },
     "execution_count": 4,
     "metadata": {},
     "output_type": "execute_result"
    }
   ],
   "source": [
    "df_class.head()"
   ]
  },
  {
   "cell_type": "markdown",
   "id": "bc9d88aa",
   "metadata": {},
   "source": [
    "### 2.2 Size and Shape"
   ]
  },
  {
   "cell_type": "code",
   "execution_count": 5,
   "id": "f7224515",
   "metadata": {
    "scrolled": true
   },
   "outputs": [
    {
     "data": {
      "text/plain": [
       "(35, 7)"
      ]
     },
     "execution_count": 5,
     "metadata": {},
     "output_type": "execute_result"
    }
   ],
   "source": [
    "df_class.shape"
   ]
  },
  {
   "cell_type": "code",
   "execution_count": 6,
   "id": "17a53e0c",
   "metadata": {
    "scrolled": true
   },
   "outputs": [
    {
     "data": {
      "text/plain": [
       "35"
      ]
     },
     "execution_count": 6,
     "metadata": {},
     "output_type": "execute_result"
    }
   ],
   "source": [
    "len(df_class)"
   ]
  },
  {
   "cell_type": "code",
   "execution_count": 7,
   "id": "70c1ed7d",
   "metadata": {},
   "outputs": [
    {
     "data": {
      "text/plain": [
       "Index(['Unnamed: 0', 'Name', 'Student No', 'Major', 'Gender', 'Test 2 (20%)',\n",
       "       'Test 1 (30%)'],\n",
       "      dtype='object')"
      ]
     },
     "execution_count": 7,
     "metadata": {},
     "output_type": "execute_result"
    }
   ],
   "source": [
    "df_class.columns"
   ]
  },
  {
   "cell_type": "markdown",
   "id": "700ae126",
   "metadata": {},
   "source": [
    "### 2.3 Summaries (I)"
   ]
  },
  {
   "cell_type": "code",
   "execution_count": null,
   "id": "0f9f06c2",
   "metadata": {},
   "outputs": [],
   "source": [
    "\n",
    "# Your code here\n"
   ]
  },
  {
   "cell_type": "markdown",
   "id": "70895484",
   "metadata": {},
   "source": [
    "### 2.4 Summaries (II)"
   ]
  },
  {
   "cell_type": "code",
   "execution_count": null,
   "id": "270615e3",
   "metadata": {},
   "outputs": [],
   "source": [
    "\n",
    "# Your code here\n"
   ]
  },
  {
   "cell_type": "markdown",
   "id": "b1955912",
   "metadata": {},
   "source": [
    "## 3 Housekeeping"
   ]
  },
  {
   "cell_type": "markdown",
   "id": "a7405a0e",
   "metadata": {},
   "source": [
    "### 3.1 Dropping unnecessary columns"
   ]
  },
  {
   "cell_type": "code",
   "execution_count": null,
   "id": "28293e71",
   "metadata": {},
   "outputs": [],
   "source": [
    "\n",
    "# Your code here\n"
   ]
  },
  {
   "cell_type": "markdown",
   "id": "9f1368de",
   "metadata": {},
   "source": [
    "### 3.2 Reorganising columns"
   ]
  },
  {
   "cell_type": "code",
   "execution_count": null,
   "id": "eccdb737",
   "metadata": {},
   "outputs": [],
   "source": [
    "\n",
    "# Your code here\n"
   ]
  },
  {
   "cell_type": "markdown",
   "id": "37000549",
   "metadata": {},
   "source": [
    "### 3.3 Renaming columns"
   ]
  },
  {
   "cell_type": "code",
   "execution_count": null,
   "id": "b0b400ad",
   "metadata": {},
   "outputs": [],
   "source": [
    "\n",
    "# Your code here\n"
   ]
  },
  {
   "cell_type": "markdown",
   "id": "6d0d2729",
   "metadata": {},
   "source": [
    "### 3.4 Setting the index"
   ]
  },
  {
   "cell_type": "code",
   "execution_count": null,
   "id": "8c452e1a",
   "metadata": {},
   "outputs": [],
   "source": [
    "\n",
    "# Your code here\n"
   ]
  },
  {
   "cell_type": "markdown",
   "id": "5e2ecbd2",
   "metadata": {},
   "source": [
    "### 3.5 Applying changes"
   ]
  },
  {
   "cell_type": "code",
   "execution_count": null,
   "id": "f5d379f2",
   "metadata": {},
   "outputs": [],
   "source": [
    "\n",
    "# Your code here\n"
   ]
  },
  {
   "cell_type": "markdown",
   "id": "038ed8c1",
   "metadata": {},
   "source": [
    "### 3.6 Changing Column Type"
   ]
  },
  {
   "cell_type": "code",
   "execution_count": null,
   "id": "365227aa",
   "metadata": {},
   "outputs": [],
   "source": [
    "\n",
    "# Your code here\n"
   ]
  },
  {
   "cell_type": "markdown",
   "id": "ac58dcff",
   "metadata": {},
   "source": [
    "### 3.7 Adding a new column"
   ]
  },
  {
   "cell_type": "code",
   "execution_count": null,
   "id": "ae8decad",
   "metadata": {},
   "outputs": [],
   "source": [
    "\n",
    "# Your code here\n"
   ]
  },
  {
   "cell_type": "markdown",
   "id": "bc6f4f01",
   "metadata": {},
   "source": [
    "### 3.8 Saving to file"
   ]
  },
  {
   "cell_type": "code",
   "execution_count": null,
   "id": "47efd11c",
   "metadata": {},
   "outputs": [],
   "source": [
    "\n",
    "# Your code here\n"
   ]
  },
  {
   "cell_type": "markdown",
   "id": "c498648a",
   "metadata": {},
   "source": [
    "### 3.9 The recipe so far"
   ]
  },
  {
   "cell_type": "code",
   "execution_count": null,
   "id": "083dfdcc",
   "metadata": {},
   "outputs": [],
   "source": [
    "\n",
    "# Your code here\n"
   ]
  },
  {
   "cell_type": "markdown",
   "id": "0d579178",
   "metadata": {},
   "source": [
    "## 4 Asking questions"
   ]
  },
  {
   "cell_type": "markdown",
   "id": "1bcdcac7",
   "metadata": {},
   "source": [
    "### 4.1 Locating data"
   ]
  },
  {
   "cell_type": "code",
   "execution_count": null,
   "id": "bfb95898",
   "metadata": {},
   "outputs": [],
   "source": [
    "\n",
    "# Your code here\n"
   ]
  },
  {
   "cell_type": "markdown",
   "id": "3c1e3592",
   "metadata": {},
   "source": [
    "### 4.2 Asking questions with masks"
   ]
  },
  {
   "cell_type": "code",
   "execution_count": null,
   "id": "ab8b25ed",
   "metadata": {},
   "outputs": [],
   "source": [
    "\n",
    "# Your code here\n"
   ]
  },
  {
   "cell_type": "markdown",
   "id": "5f27afca",
   "metadata": {},
   "source": [
    "### 4.3 The magic of groupby()"
   ]
  },
  {
   "cell_type": "code",
   "execution_count": null,
   "id": "7c25c5df",
   "metadata": {},
   "outputs": [],
   "source": [
    "\n",
    "# Your code here\n"
   ]
  },
  {
   "cell_type": "markdown",
   "id": "ceb8ad75",
   "metadata": {},
   "source": [
    "## Exercise 1 :  Another dummy class"
   ]
  },
  {
   "cell_type": "code",
   "execution_count": null,
   "id": "2d194392",
   "metadata": {},
   "outputs": [],
   "source": [
    "\n",
    "\n",
    "\n",
    "# Your solution here\n",
    "\n",
    "\n"
   ]
  }
 ],
 "metadata": {
  "kernelspec": {
   "display_name": "Python 3 (ipykernel)",
   "language": "python",
   "name": "python3"
  },
  "language_info": {
   "codemirror_mode": {
    "name": "ipython",
    "version": 3
   },
   "file_extension": ".py",
   "mimetype": "text/x-python",
   "name": "python",
   "nbconvert_exporter": "python",
   "pygments_lexer": "ipython3",
   "version": "3.10.8"
  },
  "toc": {
   "base_numbering": 1,
   "nav_menu": {},
   "number_sections": true,
   "sideBar": true,
   "skip_h1_title": false,
   "title_cell": "Table of Contents",
   "title_sidebar": "Contents",
   "toc_cell": false,
   "toc_position": {},
   "toc_section_display": true,
   "toc_window_display": false
  },
  "varInspector": {
   "cols": {
    "lenName": 16,
    "lenType": 16,
    "lenVar": 40
   },
   "kernels_config": {
    "python": {
     "delete_cmd_postfix": "",
     "delete_cmd_prefix": "del ",
     "library": "var_list.py",
     "varRefreshCmd": "print(var_dic_list())"
    },
    "r": {
     "delete_cmd_postfix": ") ",
     "delete_cmd_prefix": "rm(",
     "library": "var_list.r",
     "varRefreshCmd": "cat(var_dic_list()) "
    }
   },
   "types_to_exclude": [
    "module",
    "function",
    "builtin_function_or_method",
    "instance",
    "_Feature"
   ],
   "window_display": false
  },
  "vscode": {
   "interpreter": {
    "hash": "31f2aee4e71d21fbe5cf8b01ff0e069b9275f58929596ceb00d14d90e3e16cd6"
   }
  }
 },
 "nbformat": 4,
 "nbformat_minor": 5
}
