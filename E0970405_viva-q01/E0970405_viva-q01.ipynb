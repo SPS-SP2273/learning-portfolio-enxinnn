{
 "cells": [
  {
   "cell_type": "markdown",
   "id": "64ffa2b2",
   "metadata": {},
   "source": [
    "##### Import function test()"
   ]
  },
  {
   "cell_type": "code",
   "execution_count": 11,
   "id": "4627a7bb",
   "metadata": {},
   "outputs": [],
   "source": [
    "from test_kit import test"
   ]
  },
  {
   "cell_type": "markdown",
   "id": "34723d8f",
   "metadata": {},
   "source": [
    "##### Confirming infections using test()"
   ]
  },
  {
   "cell_type": "code",
   "execution_count": 6,
   "id": "88f6fea0",
   "metadata": {
    "scrolled": true
   },
   "outputs": [
    {
     "data": {
      "text/plain": [
       "True"
      ]
     },
     "execution_count": 6,
     "metadata": {},
     "output_type": "execute_result"
    }
   ],
   "source": [
    "with open('person_00027.txt', 'r') as file:\n",
    "    file_content = file.read()\n",
    "    \n",
    "test(file_content)"
   ]
  },
  {
   "cell_type": "code",
   "execution_count": 7,
   "id": "4c9e1b16",
   "metadata": {},
   "outputs": [
    {
     "data": {
      "text/plain": [
       "False"
      ]
     },
     "execution_count": 7,
     "metadata": {},
     "output_type": "execute_result"
    }
   ],
   "source": [
    "with open('person_00017.txt', 'r') as file:\n",
    "    file_content = file.read()\n",
    "    \n",
    "test(file_content)"
   ]
  },
  {
   "cell_type": "code",
   "execution_count": 8,
   "id": "e3b112dd",
   "metadata": {},
   "outputs": [
    {
     "data": {
      "text/plain": [
       "False"
      ]
     },
     "execution_count": 8,
     "metadata": {},
     "output_type": "execute_result"
    }
   ],
   "source": [
    "with open('person_00037.txt', 'r') as file:\n",
    "    file_content = file.read()\n",
    "    \n",
    "test(file_content)"
   ]
  },
  {
   "cell_type": "markdown",
   "id": "3f615320",
   "metadata": {},
   "source": [
    "##### Creating get_genome()"
   ]
  },
  {
   "cell_type": "code",
   "execution_count": 12,
   "id": "3a85ab6f",
   "metadata": {},
   "outputs": [],
   "source": [
    "def get_genome(person_id):\n",
    "    with open(f'person_{person_id:05d}.txt', 'r') as file:\n",
    "        file_content = file.read()\n",
    "    return file_content"
   ]
  },
  {
   "cell_type": "markdown",
   "id": "bc446434",
   "metadata": {},
   "source": [
    "##### Applying test() to first 100 people"
   ]
  },
  {
   "cell_type": "code",
   "execution_count": 3,
   "id": "fdd9f0d6",
   "metadata": {},
   "outputs": [
    {
     "name": "stdout",
     "output_type": "stream",
     "text": [
      "Infected people: [1, 7, 8, 27, 47, 57, 62, 63, 78]\n"
     ]
    }
   ],
   "source": [
    "infections = []\n",
    "\n",
    "for i in range(100):\n",
    "    genome = get_genome(i)\n",
    "    result = test(genome)\n",
    "    \n",
    "    if test(genome) == True:\n",
    "        infections.append(i)\n",
    "            \n",
    "print(f'Infected people: {infections}')"
   ]
  },
  {
   "cell_type": "markdown",
   "id": "10ff9ee9",
   "metadata": {},
   "source": [
    "##### Testing 100 random people to estimate infection rate"
   ]
  },
  {
   "cell_type": "code",
   "execution_count": 16,
   "id": "1b5ffd16",
   "metadata": {
    "scrolled": true
   },
   "outputs": [
    {
     "name": "stdout",
     "output_type": "stream",
     "text": [
      "Estimated infection rate: 8.00%\n"
     ]
    }
   ],
   "source": [
    "import numpy.random as rnd\n",
    "\n",
    "sample_size = 100\n",
    "\n",
    "sample = rnd.randint(0, 500, sample_size) \n",
    "no_infections = 0\n",
    "\n",
    "for i in sample:\n",
    "    genome = get_genome(i)\n",
    "    result = test(genome)\n",
    "    \n",
    "    if result == True:\n",
    "        no_infections += 1\n",
    "    \n",
    "print(f'Estimated infection rate: {no_infections / sample_size * 100:.2f}%')"
   ]
  },
  {
   "cell_type": "markdown",
   "id": "2a7d4711",
   "metadata": {},
   "source": [
    "##### Combining genomes"
   ]
  },
  {
   "cell_type": "code",
   "execution_count": 50,
   "id": "346e6b11",
   "metadata": {},
   "outputs": [],
   "source": [
    "genome_1 = get_genome(1)\n",
    "genome_2 = get_genome(2)\n",
    "\n",
    "combined_genome = genome_1 + genome_2"
   ]
  },
  {
   "cell_type": "markdown",
   "id": "a23ecdd5",
   "metadata": {},
   "source": [
    "##### Creating pool()"
   ]
  },
  {
   "cell_type": "code",
   "execution_count": 13,
   "id": "63e13237",
   "metadata": {},
   "outputs": [],
   "source": [
    "def pool(list_of_id):\n",
    "    combined_genomes = ''\n",
    "    \n",
    "    for i in list_of_id:\n",
    "        combined_genomes += get_genome(i)\n",
    "    \n",
    "    return combined_genomes"
   ]
  },
  {
   "cell_type": "code",
   "execution_count": 43,
   "id": "4b39e875",
   "metadata": {},
   "outputs": [
    {
     "data": {
      "text/plain": [
       "False"
      ]
     },
     "execution_count": 43,
     "metadata": {},
     "output_type": "execute_result"
    }
   ],
   "source": [
    "test(pool([20, 21]))"
   ]
  },
  {
   "cell_type": "code",
   "execution_count": 44,
   "id": "e9a04199",
   "metadata": {
    "scrolled": true
   },
   "outputs": [
    {
     "data": {
      "text/plain": [
       "False"
      ]
     },
     "execution_count": 44,
     "metadata": {},
     "output_type": "execute_result"
    }
   ],
   "source": [
    "test(pool([21, 22]))"
   ]
  },
  {
   "cell_type": "markdown",
   "id": "a27013c9",
   "metadata": {},
   "source": [
    "The results are as expected, because persons 20, 21 and 22 are individually not infected. Hence combining their genomes will also not create an infection."
   ]
  },
  {
   "cell_type": "markdown",
   "id": "43ccbb78",
   "metadata": {},
   "source": [
    "##### Testing in groups of 10"
   ]
  },
  {
   "cell_type": "code",
   "execution_count": 18,
   "id": "bb382299",
   "metadata": {},
   "outputs": [],
   "source": [
    "def pool_sampling(population_size, grouping_size):\n",
    "    persons = list(range(population_size))\n",
    "    groups = [persons[i:i+grouping_size] for i in range(0, population_size, grouping_size)]\n",
    "    infected_list = []\n",
    "    test_counter = 0\n",
    "\n",
    "    for i, group in enumerate(groups):\n",
    "        combined_genome = pool(group)\n",
    "        group_result = test(combined_genome)\n",
    "        test_counter += 1\n",
    "    \n",
    "        if group_result == True:\n",
    "            for person in range(grouping_size):\n",
    "                person_genome = get_genome(groups[i][person])\n",
    "                test_result = test(person_genome)\n",
    "                test_counter += 1\n",
    "            \n",
    "                if test_result == True:\n",
    "                    infected_list.append(groups[i][person])\n",
    "\n",
    "    print(f\"Infected people: {infected_list}\")\n",
    "    print(f\"Number of tests performed: {test_counter}\")"
   ]
  },
  {
   "cell_type": "code",
   "execution_count": 19,
   "id": "eca1fe99",
   "metadata": {
    "scrolled": true
   },
   "outputs": [
    {
     "name": "stdout",
     "output_type": "stream",
     "text": [
      "Infected people: [1, 7, 8, 27, 47, 57, 62, 63, 78]\n",
      "Number of tests performed: 70\n"
     ]
    }
   ],
   "source": [
    "pool_sampling(100, 10)"
   ]
  },
  {
   "cell_type": "markdown",
   "id": "87547f2b",
   "metadata": {},
   "source": [
    "##### Testing in groups of 5"
   ]
  },
  {
   "cell_type": "code",
   "execution_count": 20,
   "id": "5f732ecc",
   "metadata": {
    "scrolled": false
   },
   "outputs": [
    {
     "name": "stdout",
     "output_type": "stream",
     "text": [
      "Infected people: [1, 7, 8, 27, 47, 57, 62, 63, 78]\n",
      "Number of tests performed: 55\n"
     ]
    }
   ],
   "source": [
    "pool_sampling(100, 5)"
   ]
  },
  {
   "cell_type": "markdown",
   "id": "991471f4",
   "metadata": {},
   "source": [
    "##### Optimisation: Detect infections using the least number of tests"
   ]
  },
  {
   "cell_type": "markdown",
   "id": "1a9bd294",
   "metadata": {},
   "source": [
    "Created a function number_of_tests() that **returns the number of tests needed** to detect the infections when the population is split into groups for pool sampling"
   ]
  },
  {
   "cell_type": "code",
   "execution_count": 14,
   "id": "368edc3a",
   "metadata": {},
   "outputs": [],
   "source": [
    "def number_of_tests(population_size, grouping_size):\n",
    "    persons = list(range(population_size))\n",
    "    groups = [persons[i:i+grouping_size] for i in range(0, population_size, grouping_size)]\n",
    "    test_counter = 0\n",
    "    \n",
    "    if grouping_size == 1:\n",
    "        for person in range(population_size):\n",
    "                person_genome = get_genome(person)\n",
    "                test_result = test(person_genome)\n",
    "                test_counter += 1\n",
    "\n",
    "    else:\n",
    "        for i, group in enumerate(groups):\n",
    "            combined_genome = pool(group)\n",
    "            group_result = test(combined_genome)\n",
    "            test_counter += 1\n",
    "    \n",
    "            if group_result == True:\n",
    "                for person in range(grouping_size):\n",
    "                    person_genome = get_genome(groups[i][person])\n",
    "                    test_result = test(person_genome)\n",
    "                    test_counter += 1\n",
    "\n",
    "    return test_counter"
   ]
  },
  {
   "cell_type": "markdown",
   "id": "4847a1e0",
   "metadata": {},
   "source": [
    "Determine the least number of tests needed to detect infections in a population of 500"
   ]
  },
  {
   "cell_type": "code",
   "execution_count": 15,
   "id": "89618a4d",
   "metadata": {},
   "outputs": [
    {
     "name": "stdout",
     "output_type": "stream",
     "text": [
      "[1, 2, 4, 5, 10, 20, 25, 50, 100, 125, 250]\n",
      "For groups of 2, 366 tests are needed\n",
      "For groups of 4, 337 tests are needed\n",
      "For groups of 5, 350 tests are needed\n",
      "For groups of 10, 430 tests are needed\n",
      "For groups of 20, 485 tests are needed\n",
      "For groups of 25, 495 tests are needed\n"
     ]
    }
   ],
   "source": [
    "population_size = 500\n",
    "possible_grouping_sizes = []\n",
    "\n",
    "for x in range(1, population_size):\n",
    "    if population_size % x == 0:\n",
    "        possible_grouping_sizes.append(x)\n",
    "        \n",
    "print(possible_grouping_sizes)\n",
    "        \n",
    "for grouping_size in possible_grouping_sizes:\n",
    "    no_tests = number_of_tests(population_size, grouping_size)\n",
    "    \n",
    "    if no_tests >= 500:\n",
    "        continue\n",
    "        \n",
    "    print(f'For groups of {grouping_size}, {no_tests} tests are needed')"
   ]
  },
  {
   "cell_type": "markdown",
   "id": "91d32a52",
   "metadata": {},
   "source": [
    "When **groups of 4 are used**, the **least number of tests (337)** are needed."
   ]
  },
  {
   "cell_type": "code",
   "execution_count": 17,
   "id": "f18e45cb",
   "metadata": {},
   "outputs": [
    {
     "name": "stdout",
     "output_type": "stream",
     "text": [
      "Infected people: [1, 7, 8, 27, 47, 57, 62, 63, 78, 104, 105, 109, 113, 125, 128, 141, 143, 148, 151, 165, 175, 176, 181, 199, 200, 206, 218, 221, 225, 232, 242, 255, 275, 276, 295, 331, 345, 352, 368, 370, 378, 379, 380, 388, 391, 398, 402, 404, 409, 413, 414, 430, 436, 448, 449, 454, 456, 463, 476, 491, 494, 496]\n",
      "Number of tests performed: 337\n"
     ]
    }
   ],
   "source": [
    "pool_sampling(500, 4)"
   ]
  }
 ],
 "metadata": {
  "kernelspec": {
   "display_name": "Python 3 (ipykernel)",
   "language": "python",
   "name": "python3"
  },
  "language_info": {
   "codemirror_mode": {
    "name": "ipython",
    "version": 3
   },
   "file_extension": ".py",
   "mimetype": "text/x-python",
   "name": "python",
   "nbconvert_exporter": "python",
   "pygments_lexer": "ipython3",
   "version": "3.10.8"
  },
  "toc": {
   "base_numbering": 1,
   "nav_menu": {},
   "number_sections": true,
   "sideBar": true,
   "skip_h1_title": false,
   "title_cell": "Table of Contents",
   "title_sidebar": "Contents",
   "toc_cell": false,
   "toc_position": {},
   "toc_section_display": true,
   "toc_window_display": false
  },
  "varInspector": {
   "cols": {
    "lenName": 16,
    "lenType": 16,
    "lenVar": 40
   },
   "kernels_config": {
    "python": {
     "delete_cmd_postfix": "",
     "delete_cmd_prefix": "del ",
     "library": "var_list.py",
     "varRefreshCmd": "print(var_dic_list())"
    },
    "r": {
     "delete_cmd_postfix": ") ",
     "delete_cmd_prefix": "rm(",
     "library": "var_list.r",
     "varRefreshCmd": "cat(var_dic_list()) "
    }
   },
   "types_to_exclude": [
    "module",
    "function",
    "builtin_function_or_method",
    "instance",
    "_Feature"
   ],
   "window_display": false
  }
 },
 "nbformat": 4,
 "nbformat_minor": 5
}
