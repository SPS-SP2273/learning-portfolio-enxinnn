{
 "cells": [
  {
   "cell_type": "code",
   "execution_count": 3,
   "id": "c142566f",
   "metadata": {},
   "outputs": [],
   "source": [
    "from test_kit import test"
   ]
  },
  {
   "cell_type": "code",
   "execution_count": 6,
   "id": "88f6fea0",
   "metadata": {
    "scrolled": true
   },
   "outputs": [
    {
     "data": {
      "text/plain": [
       "True"
      ]
     },
     "execution_count": 6,
     "metadata": {},
     "output_type": "execute_result"
    }
   ],
   "source": [
    "with open('person_00027.txt', 'r') as file:\n",
    "    file_content = file.read()\n",
    "    \n",
    "test(file_content)"
   ]
  },
  {
   "cell_type": "code",
   "execution_count": 7,
   "id": "4c9e1b16",
   "metadata": {},
   "outputs": [
    {
     "data": {
      "text/plain": [
       "False"
      ]
     },
     "execution_count": 7,
     "metadata": {},
     "output_type": "execute_result"
    }
   ],
   "source": [
    "with open('person_00017.txt', 'r') as file:\n",
    "    file_content = file.read()\n",
    "    \n",
    "test(file_content)"
   ]
  },
  {
   "cell_type": "code",
   "execution_count": 8,
   "id": "e3b112dd",
   "metadata": {},
   "outputs": [
    {
     "data": {
      "text/plain": [
       "False"
      ]
     },
     "execution_count": 8,
     "metadata": {},
     "output_type": "execute_result"
    }
   ],
   "source": [
    "with open('person_00037.txt', 'r') as file:\n",
    "    file_content = file.read()\n",
    "    \n",
    "test(file_content)"
   ]
  },
  {
   "cell_type": "code",
   "execution_count": 4,
   "id": "3a85ab6f",
   "metadata": {},
   "outputs": [],
   "source": [
    "def get_genome(person_id):\n",
    "    with open(f'person_{person_id:05d}.txt', 'r') as file:\n",
    "        file_content = file.read()\n",
    "    return file_content"
   ]
  },
  {
   "cell_type": "code",
   "execution_count": 17,
   "id": "fdd9f0d6",
   "metadata": {},
   "outputs": [
    {
     "name": "stdout",
     "output_type": "stream",
     "text": [
      "Infected people: [1, 7, 8, 27, 47, 57, 62, 63, 78]\n"
     ]
    }
   ],
   "source": [
    "i = 0\n",
    "infections = []\n",
    "\n",
    "for i in range(100):\n",
    "    genome = get_genome(i)\n",
    "    result = test(genome)\n",
    "    \n",
    "    if test(genome) == True:\n",
    "        infections.append(i)\n",
    "        \n",
    "    i += 1\n",
    "    \n",
    "print(f'Infected people: {infections}')"
   ]
  },
  {
   "cell_type": "code",
   "execution_count": 34,
   "id": "1b5ffd16",
   "metadata": {
    "scrolled": true
   },
   "outputs": [
    {
     "name": "stdout",
     "output_type": "stream",
     "text": [
      "Estimated infection rate: 14.000000000000002 %\n"
     ]
    }
   ],
   "source": [
    "import numpy.random as rnd\n",
    "\n",
    "sample_size = 100\n",
    "\n",
    "sample = rnd.randint(0, 500, sample_size)\n",
    "no_infections = 0\n",
    "\n",
    "for i in sample:\n",
    "    genome = get_genome(i)\n",
    "    result = test(genome)\n",
    "    \n",
    "    if test(genome) == True:\n",
    "            no_infections += 1\n",
    "    \n",
    "    i += 1\n",
    "    \n",
    "print('Estimated infection rate:', no_infections / sample_size * 100, '%')"
   ]
  },
  {
   "cell_type": "code",
   "execution_count": 50,
   "id": "346e6b11",
   "metadata": {},
   "outputs": [],
   "source": [
    "genome_1 = get_genome(1)\n",
    "genome_2 = get_genome(2)\n",
    "\n",
    "combined_genome = genome_1 + genome_2"
   ]
  },
  {
   "cell_type": "code",
   "execution_count": 5,
   "id": "63e13237",
   "metadata": {},
   "outputs": [],
   "source": [
    "def pool(list_of_id):\n",
    "    combined_genomes = ''\n",
    "    \n",
    "    for i in list_of_id:\n",
    "        combined_genomes += get_genome(i)\n",
    "    \n",
    "    return combined_genomes"
   ]
  },
  {
   "cell_type": "code",
   "execution_count": 43,
   "id": "4b39e875",
   "metadata": {},
   "outputs": [
    {
     "data": {
      "text/plain": [
       "False"
      ]
     },
     "execution_count": 43,
     "metadata": {},
     "output_type": "execute_result"
    }
   ],
   "source": [
    "test(pool([20, 21]))"
   ]
  },
  {
   "cell_type": "code",
   "execution_count": 44,
   "id": "e9a04199",
   "metadata": {
    "scrolled": true
   },
   "outputs": [
    {
     "data": {
      "text/plain": [
       "False"
      ]
     },
     "execution_count": 44,
     "metadata": {},
     "output_type": "execute_result"
    }
   ],
   "source": [
    "test(pool([21, 22]))"
   ]
  },
  {
   "cell_type": "code",
   "execution_count": 6,
   "id": "eca1fe99",
   "metadata": {},
   "outputs": [
    {
     "name": "stdout",
     "output_type": "stream",
     "text": [
      "Infected people: [1, 7, 8, 27, 47, 57, 62, 63, 78]\n",
      "Number of tests performed: 70\n"
     ]
    }
   ],
   "source": [
    "persons = list(range(100))\n",
    "groups = [persons[i:i+10] for i in range(0, 100, 10)]\n",
    "infected_list = []\n",
    "test_counter = 0\n",
    "\n",
    "for i, group in enumerate(groups):\n",
    "    combined_genome = pool(group)\n",
    "    group_result = test(combined_genome)\n",
    "    test_counter += 1\n",
    "    \n",
    "    if group_result == True:\n",
    "        for person in range(10):\n",
    "            person_genome = get_genome(groups[i][person])\n",
    "            test_result = test(person_genome)\n",
    "            test_counter += 1\n",
    "            \n",
    "            if test_result == True:\n",
    "                infected_list.append(groups[i][person])\n",
    "\n",
    "print(f\"Infected people: {infected_list}\")\n",
    "print(f\"Number of tests performed: {test_counter}\")"
   ]
  },
  {
   "cell_type": "code",
   "execution_count": 90,
   "id": "5f732ecc",
   "metadata": {},
   "outputs": [
    {
     "name": "stdout",
     "output_type": "stream",
     "text": [
      "Infected people: [1, 7, 8, 27, 47, 57, 62, 63, 78]\n",
      "Number of tests performed: 55\n"
     ]
    }
   ],
   "source": [
    "persons = list(range(100))\n",
    "groups = [persons[i:i+5] for i in range(0, 100, 5)]\n",
    "infected_list = []\n",
    "test_counter = 0\n",
    "\n",
    "for i, group in enumerate(groups):\n",
    "    combined_genome = pool(group)\n",
    "    group_result = test(combined_genome)\n",
    "    test_counter += 1\n",
    "    \n",
    "    if group_result == True:\n",
    "        for person in range(5):\n",
    "            person_genome = get_genome(groups[i][person])\n",
    "            test_result = test(person_genome)\n",
    "            test_counter += 1\n",
    "            \n",
    "            if test_result == True:\n",
    "                infected_list.append(groups[i][person])\n",
    "\n",
    "print(f\"Infected people: {infected_list}\")\n",
    "print(f\"Number of tests performed: {test_counter}\")"
   ]
  },
  {
   "cell_type": "code",
   "execution_count": 11,
   "id": "368edc3a",
   "metadata": {},
   "outputs": [],
   "source": [
    "def pool_sampling(population_size, grouping_size):\n",
    "    persons = list(range(population_size))\n",
    "    groups = [persons[i:i+grouping_size] for i in range(0, population_size, grouping_size)]\n",
    "    infected_list = []\n",
    "    test_counter = 0\n",
    "    \n",
    "    if grouping_size == 1:\n",
    "        for person in range(population_size):\n",
    "                person_genome = get_genome(person)\n",
    "                test_result = test(person_genome)\n",
    "                test_counter += 1\n",
    "\n",
    "    else:\n",
    "        for i, group in enumerate(groups):\n",
    "            combined_genome = pool(group)\n",
    "            group_result = test(combined_genome)\n",
    "            test_counter += 1\n",
    "    \n",
    "            if group_result == True:\n",
    "                for person in range(grouping_size):\n",
    "                    person_genome = get_genome(groups[i][person])\n",
    "                    test_result = test(person_genome)\n",
    "                    test_counter += 1\n",
    "            \n",
    "                    if test_result == True:\n",
    "                        infected_list.append(groups[i][person])\n",
    "\n",
    "    return test_counter"
   ]
  },
  {
   "cell_type": "code",
   "execution_count": 15,
   "id": "e9d33ab2",
   "metadata": {
    "scrolled": true
   },
   "outputs": [
    {
     "name": "stdout",
     "output_type": "stream",
     "text": [
      "[1, 2, 4, 5, 10, 20, 25, 50, 100, 125, 250, 500]\n",
      "When groups of 2 are used, 366 tests are needed.\n",
      "When groups of 4 are used, 337 tests are needed.\n",
      "When groups of 5 are used, 350 tests are needed.\n",
      "When groups of 10 are used, 430 tests are needed.\n",
      "When groups of 20 are used, 485 tests are needed.\n",
      "When groups of 25 are used, 495 tests are needed.\n"
     ]
    }
   ],
   "source": [
    "possible_groupings = []\n",
    "x = 500\n",
    "for a in range(1, x + 1):\n",
    "    if x % a == 0:\n",
    "        possible_groupings.append(a)\n",
    "        \n",
    "print(possible_groupings)\n",
    "\n",
    "for groupings in possible_groupings:\n",
    "    no_of_tests = pool_sampling(x, groupings)\n",
    "    \n",
    "    if no_of_tests >= 500:\n",
    "        continue\n",
    "\n",
    "    print(f'When groups of {groupings} are used, {pool_sampling(x, groupings)} tests are needed.')"
   ]
  },
  {
   "cell_type": "markdown",
   "id": "91d32a52",
   "metadata": {},
   "source": [
    "When groups of 4 are used, the least number of tests are needed"
   ]
  }
 ],
 "metadata": {
  "kernelspec": {
   "display_name": "Python 3 (ipykernel)",
   "language": "python",
   "name": "python3"
  },
  "language_info": {
   "codemirror_mode": {
    "name": "ipython",
    "version": 3
   },
   "file_extension": ".py",
   "mimetype": "text/x-python",
   "name": "python",
   "nbconvert_exporter": "python",
   "pygments_lexer": "ipython3",
   "version": "3.10.8"
  },
  "toc": {
   "base_numbering": 1,
   "nav_menu": {},
   "number_sections": true,
   "sideBar": true,
   "skip_h1_title": false,
   "title_cell": "Table of Contents",
   "title_sidebar": "Contents",
   "toc_cell": false,
   "toc_position": {},
   "toc_section_display": true,
   "toc_window_display": false
  },
  "varInspector": {
   "cols": {
    "lenName": 16,
    "lenType": 16,
    "lenVar": 40
   },
   "kernels_config": {
    "python": {
     "delete_cmd_postfix": "",
     "delete_cmd_prefix": "del ",
     "library": "var_list.py",
     "varRefreshCmd": "print(var_dic_list())"
    },
    "r": {
     "delete_cmd_postfix": ") ",
     "delete_cmd_prefix": "rm(",
     "library": "var_list.r",
     "varRefreshCmd": "cat(var_dic_list()) "
    }
   },
   "types_to_exclude": [
    "module",
    "function",
    "builtin_function_or_method",
    "instance",
    "_Feature"
   ],
   "window_display": false
  }
 },
 "nbformat": 4,
 "nbformat_minor": 5
}
